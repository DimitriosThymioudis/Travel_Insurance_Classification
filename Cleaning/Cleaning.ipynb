{
 "cells": [
  {
   "cell_type": "markdown",
   "id": "37813aa1-64f4-49c4-b38e-c58e2072e7dd",
   "metadata": {},
   "source": [
    "## Travel Insurance Prediction Data Cleaning"
   ]
  },
  {
   "cell_type": "markdown",
   "id": "3389dbcd-5d40-4db4-a469-58030c8c5045",
   "metadata": {},
   "source": [
    "### Import the necessary libraries"
   ]
  },
  {
   "cell_type": "code",
   "execution_count": 19,
   "id": "61349db7-caca-4429-b002-88e0ffe77a73",
   "metadata": {
    "ExecuteTime": {
     "end_time": "2023-07-01T09:34:43.791291Z",
     "start_time": "2023-07-01T09:34:43.776085Z"
    },
    "execution": {
     "iopub.execute_input": "2023-07-01T09:16:22.751766Z",
     "iopub.status.busy": "2023-07-01T09:16:22.750764Z",
     "iopub.status.idle": "2023-07-01T09:16:23.369938Z",
     "shell.execute_reply": "2023-07-01T09:16:23.369938Z",
     "shell.execute_reply.started": "2023-07-01T09:16:22.750764Z"
    },
    "tags": []
   },
   "outputs": [],
   "source": [
    "# necessary libraries\n",
    "import pandas as pd\n",
    "import warnings\n",
    "import time\n",
    "import pickle\n",
    "warnings.filterwarnings('ignore')\n",
    "from pathlib import Path"
   ]
  },
  {
   "cell_type": "markdown",
   "id": "d7418dbb-7653-4f1e-86af-e0d5f14317e6",
   "metadata": {},
   "source": [
    "### Load and explore and preprocess the data"
   ]
  },
  {
   "cell_type": "code",
   "execution_count": 22,
   "id": "b2347265-d7d9-430c-a43d-f43504a4ac0b",
   "metadata": {
    "ExecuteTime": {
     "end_time": "2023-07-01T09:35:51.509305Z",
     "start_time": "2023-07-01T09:35:51.483359Z"
    },
    "execution": {
     "iopub.execute_input": "2023-07-01T09:16:23.372941Z",
     "iopub.status.busy": "2023-07-01T09:16:23.372941Z",
     "iopub.status.idle": "2023-07-01T09:16:23.401632Z",
     "shell.execute_reply": "2023-07-01T09:16:23.400630Z",
     "shell.execute_reply.started": "2023-07-01T09:16:23.372941Z"
    },
    "tags": []
   },
   "outputs": [],
   "source": [
    "df = pd.read_csv(r\"C:\\Users\\Dimitris-PC\\Documents\\Github Projects\\Github-Project-3-Machine-Learning\\Cleaning\\cleaning_dataset.csv\")"
   ]
  },
  {
   "cell_type": "code",
   "execution_count": 23,
   "id": "619e33b5-8e65-4353-b28a-217e57c044c6",
   "metadata": {
    "ExecuteTime": {
     "end_time": "2023-07-01T09:35:53.976545Z",
     "start_time": "2023-07-01T09:35:53.964761Z"
    },
    "execution": {
     "iopub.execute_input": "2023-07-01T09:16:23.402632Z",
     "iopub.status.busy": "2023-07-01T09:16:23.402632Z",
     "iopub.status.idle": "2023-07-01T09:16:23.432433Z",
     "shell.execute_reply": "2023-07-01T09:16:23.431432Z",
     "shell.execute_reply.started": "2023-07-01T09:16:23.402632Z"
    },
    "tags": []
   },
   "outputs": [
    {
     "data": {
      "text/html": [
       "<div>\n",
       "<style scoped>\n",
       "    .dataframe tbody tr th:only-of-type {\n",
       "        vertical-align: middle;\n",
       "    }\n",
       "\n",
       "    .dataframe tbody tr th {\n",
       "        vertical-align: top;\n",
       "    }\n",
       "\n",
       "    .dataframe thead th {\n",
       "        text-align: right;\n",
       "    }\n",
       "</style>\n",
       "<table border=\"1\" class=\"dataframe\">\n",
       "  <thead>\n",
       "    <tr style=\"text-align: right;\">\n",
       "      <th></th>\n",
       "      <th>Age</th>\n",
       "      <th>Employment Type</th>\n",
       "      <th>GraduateOrNot</th>\n",
       "      <th>AnnualIncome</th>\n",
       "      <th>FamilyMembers</th>\n",
       "      <th>ChronicDiseases</th>\n",
       "      <th>FrequentFlyer</th>\n",
       "      <th>EverTravelledAbroad</th>\n",
       "      <th>TravelInsurance</th>\n",
       "    </tr>\n",
       "  </thead>\n",
       "  <tbody>\n",
       "    <tr>\n",
       "      <th>0</th>\n",
       "      <td>31</td>\n",
       "      <td>1</td>\n",
       "      <td>1</td>\n",
       "      <td>400000</td>\n",
       "      <td>6</td>\n",
       "      <td>1</td>\n",
       "      <td>0</td>\n",
       "      <td>0</td>\n",
       "      <td>0</td>\n",
       "    </tr>\n",
       "    <tr>\n",
       "      <th>1</th>\n",
       "      <td>31</td>\n",
       "      <td>0</td>\n",
       "      <td>1</td>\n",
       "      <td>1250000</td>\n",
       "      <td>7</td>\n",
       "      <td>0</td>\n",
       "      <td>0</td>\n",
       "      <td>0</td>\n",
       "      <td>0</td>\n",
       "    </tr>\n",
       "    <tr>\n",
       "      <th>2</th>\n",
       "      <td>34</td>\n",
       "      <td>0</td>\n",
       "      <td>1</td>\n",
       "      <td>500000</td>\n",
       "      <td>4</td>\n",
       "      <td>1</td>\n",
       "      <td>0</td>\n",
       "      <td>0</td>\n",
       "      <td>1</td>\n",
       "    </tr>\n",
       "    <tr>\n",
       "      <th>3</th>\n",
       "      <td>28</td>\n",
       "      <td>0</td>\n",
       "      <td>1</td>\n",
       "      <td>700000</td>\n",
       "      <td>3</td>\n",
       "      <td>1</td>\n",
       "      <td>0</td>\n",
       "      <td>0</td>\n",
       "      <td>0</td>\n",
       "    </tr>\n",
       "    <tr>\n",
       "      <th>4</th>\n",
       "      <td>28</td>\n",
       "      <td>0</td>\n",
       "      <td>1</td>\n",
       "      <td>700000</td>\n",
       "      <td>8</td>\n",
       "      <td>1</td>\n",
       "      <td>1</td>\n",
       "      <td>0</td>\n",
       "      <td>0</td>\n",
       "    </tr>\n",
       "    <tr>\n",
       "      <th>...</th>\n",
       "      <td>...</td>\n",
       "      <td>...</td>\n",
       "      <td>...</td>\n",
       "      <td>...</td>\n",
       "      <td>...</td>\n",
       "      <td>...</td>\n",
       "      <td>...</td>\n",
       "      <td>...</td>\n",
       "      <td>...</td>\n",
       "    </tr>\n",
       "    <tr>\n",
       "      <th>1982</th>\n",
       "      <td>33</td>\n",
       "      <td>0</td>\n",
       "      <td>1</td>\n",
       "      <td>1500000</td>\n",
       "      <td>4</td>\n",
       "      <td>0</td>\n",
       "      <td>1</td>\n",
       "      <td>1</td>\n",
       "      <td>1</td>\n",
       "    </tr>\n",
       "    <tr>\n",
       "      <th>1983</th>\n",
       "      <td>28</td>\n",
       "      <td>0</td>\n",
       "      <td>1</td>\n",
       "      <td>1750000</td>\n",
       "      <td>5</td>\n",
       "      <td>1</td>\n",
       "      <td>0</td>\n",
       "      <td>1</td>\n",
       "      <td>0</td>\n",
       "    </tr>\n",
       "    <tr>\n",
       "      <th>1984</th>\n",
       "      <td>28</td>\n",
       "      <td>0</td>\n",
       "      <td>1</td>\n",
       "      <td>1150000</td>\n",
       "      <td>6</td>\n",
       "      <td>1</td>\n",
       "      <td>0</td>\n",
       "      <td>0</td>\n",
       "      <td>0</td>\n",
       "    </tr>\n",
       "    <tr>\n",
       "      <th>1985</th>\n",
       "      <td>34</td>\n",
       "      <td>0</td>\n",
       "      <td>1</td>\n",
       "      <td>1000000</td>\n",
       "      <td>6</td>\n",
       "      <td>0</td>\n",
       "      <td>1</td>\n",
       "      <td>1</td>\n",
       "      <td>1</td>\n",
       "    </tr>\n",
       "    <tr>\n",
       "      <th>1986</th>\n",
       "      <td>34</td>\n",
       "      <td>0</td>\n",
       "      <td>1</td>\n",
       "      <td>500000</td>\n",
       "      <td>4</td>\n",
       "      <td>0</td>\n",
       "      <td>0</td>\n",
       "      <td>0</td>\n",
       "      <td>0</td>\n",
       "    </tr>\n",
       "  </tbody>\n",
       "</table>\n",
       "<p>1987 rows × 9 columns</p>\n",
       "</div>"
      ],
      "text/plain": [
       "      Age  Employment Type  GraduateOrNot  AnnualIncome  FamilyMembers  \\\n",
       "0      31                1              1        400000              6   \n",
       "1      31                0              1       1250000              7   \n",
       "2      34                0              1        500000              4   \n",
       "3      28                0              1        700000              3   \n",
       "4      28                0              1        700000              8   \n",
       "...   ...              ...            ...           ...            ...   \n",
       "1982   33                0              1       1500000              4   \n",
       "1983   28                0              1       1750000              5   \n",
       "1984   28                0              1       1150000              6   \n",
       "1985   34                0              1       1000000              6   \n",
       "1986   34                0              1        500000              4   \n",
       "\n",
       "      ChronicDiseases  FrequentFlyer  EverTravelledAbroad  TravelInsurance  \n",
       "0                   1              0                    0                0  \n",
       "1                   0              0                    0                0  \n",
       "2                   1              0                    0                1  \n",
       "3                   1              0                    0                0  \n",
       "4                   1              1                    0                0  \n",
       "...               ...            ...                  ...              ...  \n",
       "1982                0              1                    1                1  \n",
       "1983                1              0                    1                0  \n",
       "1984                1              0                    0                0  \n",
       "1985                0              1                    1                1  \n",
       "1986                0              0                    0                0  \n",
       "\n",
       "[1987 rows x 9 columns]"
      ]
     },
     "execution_count": 23,
     "metadata": {},
     "output_type": "execute_result"
    }
   ],
   "source": [
    "df"
   ]
  },
  {
   "cell_type": "code",
   "execution_count": 24,
   "id": "83666072-831e-46bc-9e90-b4323d8e3251",
   "metadata": {
    "ExecuteTime": {
     "end_time": "2023-07-01T09:35:57.466370Z",
     "start_time": "2023-07-01T09:35:57.455971Z"
    },
    "execution": {
     "iopub.execute_input": "2023-07-01T09:16:23.433937Z",
     "iopub.status.busy": "2023-07-01T09:16:23.432433Z",
     "iopub.status.idle": "2023-07-01T09:16:23.448398Z",
     "shell.execute_reply": "2023-07-01T09:16:23.447398Z",
     "shell.execute_reply.started": "2023-07-01T09:16:23.433937Z"
    },
    "tags": []
   },
   "outputs": [
    {
     "name": "stdout",
     "output_type": "stream",
     "text": [
      "<class 'pandas.core.frame.DataFrame'>\n",
      "RangeIndex: 1987 entries, 0 to 1986\n",
      "Data columns (total 9 columns):\n",
      " #   Column               Non-Null Count  Dtype\n",
      "---  ------               --------------  -----\n",
      " 0   Age                  1987 non-null   int64\n",
      " 1   Employment Type      1987 non-null   int64\n",
      " 2   GraduateOrNot        1987 non-null   int64\n",
      " 3   AnnualIncome         1987 non-null   int64\n",
      " 4   FamilyMembers        1987 non-null   int64\n",
      " 5   ChronicDiseases      1987 non-null   int64\n",
      " 6   FrequentFlyer        1987 non-null   int64\n",
      " 7   EverTravelledAbroad  1987 non-null   int64\n",
      " 8   TravelInsurance      1987 non-null   int64\n",
      "dtypes: int64(9)\n",
      "memory usage: 139.8 KB\n"
     ]
    }
   ],
   "source": [
    "df.info()"
   ]
  },
  {
   "cell_type": "code",
   "execution_count": 25,
   "id": "994022f5-909f-4492-b643-e3ed866a3477",
   "metadata": {
    "ExecuteTime": {
     "end_time": "2023-07-01T09:35:59.543629Z",
     "start_time": "2023-07-01T09:35:59.533680Z"
    },
    "execution": {
     "iopub.execute_input": "2023-07-01T09:16:23.449400Z",
     "iopub.status.busy": "2023-07-01T09:16:23.449400Z",
     "iopub.status.idle": "2023-07-01T09:16:23.464337Z",
     "shell.execute_reply": "2023-07-01T09:16:23.463337Z",
     "shell.execute_reply.started": "2023-07-01T09:16:23.449400Z"
    },
    "tags": []
   },
   "outputs": [
    {
     "data": {
      "text/plain": [
       "array([1, 0], dtype=int64)"
      ]
     },
     "execution_count": 25,
     "metadata": {},
     "output_type": "execute_result"
    }
   ],
   "source": [
    "df['Employment Type'].unique()"
   ]
  },
  {
   "cell_type": "code",
   "execution_count": 27,
   "id": "92fdb5a9-82fb-44ed-ab55-940b9971127f",
   "metadata": {
    "ExecuteTime": {
     "end_time": "2023-07-01T09:36:16.473196Z",
     "start_time": "2023-07-01T09:36:16.466080Z"
    },
    "execution": {
     "iopub.execute_input": "2023-07-01T09:16:23.465844Z",
     "iopub.status.busy": "2023-07-01T09:16:23.464841Z",
     "iopub.status.idle": "2023-07-01T09:16:23.479851Z",
     "shell.execute_reply": "2023-07-01T09:16:23.478851Z",
     "shell.execute_reply.started": "2023-07-01T09:16:23.465844Z"
    },
    "tags": []
   },
   "outputs": [],
   "source": [
    "df.replace(to_replace=['Yes','No'], value = [1,0], inplace=True)\n",
    "df.replace(to_replace=['Government Sector','Private Sector/Self Employed'], value = [1,0], inplace=True)\n",
    "#df = df.drop('Unnamed: 0', axis=1)"
   ]
  },
  {
   "cell_type": "code",
   "execution_count": 28,
   "id": "e1923cc2-99ac-498b-9e31-bf19a5f89b54",
   "metadata": {
    "ExecuteTime": {
     "end_time": "2023-07-01T09:36:18.888193Z",
     "start_time": "2023-07-01T09:36:18.871514Z"
    },
    "execution": {
     "iopub.execute_input": "2023-07-01T09:16:23.482855Z",
     "iopub.status.busy": "2023-07-01T09:16:23.481853Z",
     "iopub.status.idle": "2023-07-01T09:16:23.497049Z",
     "shell.execute_reply": "2023-07-01T09:16:23.497049Z",
     "shell.execute_reply.started": "2023-07-01T09:16:23.482855Z"
    },
    "tags": []
   },
   "outputs": [
    {
     "data": {
      "text/html": [
       "<div>\n",
       "<style scoped>\n",
       "    .dataframe tbody tr th:only-of-type {\n",
       "        vertical-align: middle;\n",
       "    }\n",
       "\n",
       "    .dataframe tbody tr th {\n",
       "        vertical-align: top;\n",
       "    }\n",
       "\n",
       "    .dataframe thead th {\n",
       "        text-align: right;\n",
       "    }\n",
       "</style>\n",
       "<table border=\"1\" class=\"dataframe\">\n",
       "  <thead>\n",
       "    <tr style=\"text-align: right;\">\n",
       "      <th></th>\n",
       "      <th>Age</th>\n",
       "      <th>Employment Type</th>\n",
       "      <th>GraduateOrNot</th>\n",
       "      <th>AnnualIncome</th>\n",
       "      <th>FamilyMembers</th>\n",
       "      <th>ChronicDiseases</th>\n",
       "      <th>FrequentFlyer</th>\n",
       "      <th>EverTravelledAbroad</th>\n",
       "      <th>TravelInsurance</th>\n",
       "    </tr>\n",
       "  </thead>\n",
       "  <tbody>\n",
       "    <tr>\n",
       "      <th>0</th>\n",
       "      <td>31</td>\n",
       "      <td>1</td>\n",
       "      <td>1</td>\n",
       "      <td>400000</td>\n",
       "      <td>6</td>\n",
       "      <td>1</td>\n",
       "      <td>0</td>\n",
       "      <td>0</td>\n",
       "      <td>0</td>\n",
       "    </tr>\n",
       "    <tr>\n",
       "      <th>1</th>\n",
       "      <td>31</td>\n",
       "      <td>0</td>\n",
       "      <td>1</td>\n",
       "      <td>1250000</td>\n",
       "      <td>7</td>\n",
       "      <td>0</td>\n",
       "      <td>0</td>\n",
       "      <td>0</td>\n",
       "      <td>0</td>\n",
       "    </tr>\n",
       "    <tr>\n",
       "      <th>2</th>\n",
       "      <td>34</td>\n",
       "      <td>0</td>\n",
       "      <td>1</td>\n",
       "      <td>500000</td>\n",
       "      <td>4</td>\n",
       "      <td>1</td>\n",
       "      <td>0</td>\n",
       "      <td>0</td>\n",
       "      <td>1</td>\n",
       "    </tr>\n",
       "    <tr>\n",
       "      <th>3</th>\n",
       "      <td>28</td>\n",
       "      <td>0</td>\n",
       "      <td>1</td>\n",
       "      <td>700000</td>\n",
       "      <td>3</td>\n",
       "      <td>1</td>\n",
       "      <td>0</td>\n",
       "      <td>0</td>\n",
       "      <td>0</td>\n",
       "    </tr>\n",
       "    <tr>\n",
       "      <th>4</th>\n",
       "      <td>28</td>\n",
       "      <td>0</td>\n",
       "      <td>1</td>\n",
       "      <td>700000</td>\n",
       "      <td>8</td>\n",
       "      <td>1</td>\n",
       "      <td>1</td>\n",
       "      <td>0</td>\n",
       "      <td>0</td>\n",
       "    </tr>\n",
       "    <tr>\n",
       "      <th>...</th>\n",
       "      <td>...</td>\n",
       "      <td>...</td>\n",
       "      <td>...</td>\n",
       "      <td>...</td>\n",
       "      <td>...</td>\n",
       "      <td>...</td>\n",
       "      <td>...</td>\n",
       "      <td>...</td>\n",
       "      <td>...</td>\n",
       "    </tr>\n",
       "    <tr>\n",
       "      <th>1982</th>\n",
       "      <td>33</td>\n",
       "      <td>0</td>\n",
       "      <td>1</td>\n",
       "      <td>1500000</td>\n",
       "      <td>4</td>\n",
       "      <td>0</td>\n",
       "      <td>1</td>\n",
       "      <td>1</td>\n",
       "      <td>1</td>\n",
       "    </tr>\n",
       "    <tr>\n",
       "      <th>1983</th>\n",
       "      <td>28</td>\n",
       "      <td>0</td>\n",
       "      <td>1</td>\n",
       "      <td>1750000</td>\n",
       "      <td>5</td>\n",
       "      <td>1</td>\n",
       "      <td>0</td>\n",
       "      <td>1</td>\n",
       "      <td>0</td>\n",
       "    </tr>\n",
       "    <tr>\n",
       "      <th>1984</th>\n",
       "      <td>28</td>\n",
       "      <td>0</td>\n",
       "      <td>1</td>\n",
       "      <td>1150000</td>\n",
       "      <td>6</td>\n",
       "      <td>1</td>\n",
       "      <td>0</td>\n",
       "      <td>0</td>\n",
       "      <td>0</td>\n",
       "    </tr>\n",
       "    <tr>\n",
       "      <th>1985</th>\n",
       "      <td>34</td>\n",
       "      <td>0</td>\n",
       "      <td>1</td>\n",
       "      <td>1000000</td>\n",
       "      <td>6</td>\n",
       "      <td>0</td>\n",
       "      <td>1</td>\n",
       "      <td>1</td>\n",
       "      <td>1</td>\n",
       "    </tr>\n",
       "    <tr>\n",
       "      <th>1986</th>\n",
       "      <td>34</td>\n",
       "      <td>0</td>\n",
       "      <td>1</td>\n",
       "      <td>500000</td>\n",
       "      <td>4</td>\n",
       "      <td>0</td>\n",
       "      <td>0</td>\n",
       "      <td>0</td>\n",
       "      <td>0</td>\n",
       "    </tr>\n",
       "  </tbody>\n",
       "</table>\n",
       "<p>1987 rows × 9 columns</p>\n",
       "</div>"
      ],
      "text/plain": [
       "      Age  Employment Type  GraduateOrNot  AnnualIncome  FamilyMembers  \\\n",
       "0      31                1              1        400000              6   \n",
       "1      31                0              1       1250000              7   \n",
       "2      34                0              1        500000              4   \n",
       "3      28                0              1        700000              3   \n",
       "4      28                0              1        700000              8   \n",
       "...   ...              ...            ...           ...            ...   \n",
       "1982   33                0              1       1500000              4   \n",
       "1983   28                0              1       1750000              5   \n",
       "1984   28                0              1       1150000              6   \n",
       "1985   34                0              1       1000000              6   \n",
       "1986   34                0              1        500000              4   \n",
       "\n",
       "      ChronicDiseases  FrequentFlyer  EverTravelledAbroad  TravelInsurance  \n",
       "0                   1              0                    0                0  \n",
       "1                   0              0                    0                0  \n",
       "2                   1              0                    0                1  \n",
       "3                   1              0                    0                0  \n",
       "4                   1              1                    0                0  \n",
       "...               ...            ...                  ...              ...  \n",
       "1982                0              1                    1                1  \n",
       "1983                1              0                    1                0  \n",
       "1984                1              0                    0                0  \n",
       "1985                0              1                    1                1  \n",
       "1986                0              0                    0                0  \n",
       "\n",
       "[1987 rows x 9 columns]"
      ]
     },
     "execution_count": 28,
     "metadata": {},
     "output_type": "execute_result"
    }
   ],
   "source": [
    "df"
   ]
  },
  {
   "cell_type": "code",
   "execution_count": 29,
   "id": "17251852-f8d0-4529-81ad-9a3093660e42",
   "metadata": {
    "ExecuteTime": {
     "end_time": "2023-07-01T09:36:20.976761Z",
     "start_time": "2023-07-01T09:36:20.965302Z"
    },
    "execution": {
     "iopub.execute_input": "2023-07-01T09:16:23.499051Z",
     "iopub.status.busy": "2023-07-01T09:16:23.499051Z",
     "iopub.status.idle": "2023-07-01T09:16:23.511238Z",
     "shell.execute_reply": "2023-07-01T09:16:23.510238Z",
     "shell.execute_reply.started": "2023-07-01T09:16:23.499051Z"
    },
    "tags": []
   },
   "outputs": [
    {
     "name": "stdout",
     "output_type": "stream",
     "text": [
      "<class 'pandas.core.frame.DataFrame'>\n",
      "RangeIndex: 1987 entries, 0 to 1986\n",
      "Data columns (total 9 columns):\n",
      " #   Column               Non-Null Count  Dtype\n",
      "---  ------               --------------  -----\n",
      " 0   Age                  1987 non-null   int64\n",
      " 1   Employment Type      1987 non-null   int64\n",
      " 2   GraduateOrNot        1987 non-null   int64\n",
      " 3   AnnualIncome         1987 non-null   int64\n",
      " 4   FamilyMembers        1987 non-null   int64\n",
      " 5   ChronicDiseases      1987 non-null   int64\n",
      " 6   FrequentFlyer        1987 non-null   int64\n",
      " 7   EverTravelledAbroad  1987 non-null   int64\n",
      " 8   TravelInsurance      1987 non-null   int64\n",
      "dtypes: int64(9)\n",
      "memory usage: 139.8 KB\n"
     ]
    }
   ],
   "source": [
    "df.info()"
   ]
  },
  {
   "cell_type": "code",
   "execution_count": 30,
   "id": "f508d305-25cd-4cb7-98ec-d7a66cce320d",
   "metadata": {
    "ExecuteTime": {
     "end_time": "2023-07-01T09:36:56.224154Z",
     "start_time": "2023-07-01T09:36:56.213634Z"
    },
    "execution": {
     "iopub.execute_input": "2023-07-01T09:16:23.512239Z",
     "iopub.status.busy": "2023-07-01T09:16:23.512239Z",
     "iopub.status.idle": "2023-07-01T09:16:23.542172Z",
     "shell.execute_reply": "2023-07-01T09:16:23.541170Z",
     "shell.execute_reply.started": "2023-07-01T09:16:23.512239Z"
    },
    "tags": []
   },
   "outputs": [],
   "source": [
    "# converting to CSV file\n",
    "\n",
    "df.to_csv('cleaning_dataset.csv', index=False)"
   ]
  }
 ],
 "metadata": {
  "kernelspec": {
   "display_name": "Python 3 (ipykernel)",
   "language": "python",
   "name": "python3"
  },
  "language_info": {
   "codemirror_mode": {
    "name": "ipython",
    "version": 3
   },
   "file_extension": ".py",
   "mimetype": "text/x-python",
   "name": "python",
   "nbconvert_exporter": "python",
   "pygments_lexer": "ipython3",
   "version": "3.8.10"
  },
  "varInspector": {
   "cols": {
    "lenName": 16,
    "lenType": 16,
    "lenVar": 40
   },
   "kernels_config": {
    "python": {
     "delete_cmd_postfix": "",
     "delete_cmd_prefix": "del ",
     "library": "var_list.py",
     "varRefreshCmd": "print(var_dic_list())"
    },
    "r": {
     "delete_cmd_postfix": ") ",
     "delete_cmd_prefix": "rm(",
     "library": "var_list.r",
     "varRefreshCmd": "cat(var_dic_list()) "
    }
   },
   "types_to_exclude": [
    "module",
    "function",
    "builtin_function_or_method",
    "instance",
    "_Feature"
   ],
   "window_display": false
  }
 },
 "nbformat": 4,
 "nbformat_minor": 5
}
